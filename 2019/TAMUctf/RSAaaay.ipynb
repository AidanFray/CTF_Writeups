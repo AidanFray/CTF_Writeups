{
 "cells": [
  {
   "cell_type": "code",
   "execution_count": 242,
   "metadata": {},
   "outputs": [],
   "source": [
    "def num_to_string(no):\n",
    "    nodig = no.digits(256)\n",
    "    return \"\".join(map(chr, nodig))\n",
    "\n",
    "def decrypt(c, d, n):\n",
    "    return num_to_string(power_mod(c, d, n))"
   ]
  },
  {
   "cell_type": "code",
   "execution_count": 248,
   "metadata": {
    "scrolled": true
   },
   "outputs": [],
   "source": [
    "c = \"906851 991083 1780304 2380434 438490 356019 921472 822283 817856 556932 2102538 2501908 2211404 991083 1562919 38268\"\n",
    "c = c.split(\" \")"
   ]
  },
  {
   "cell_type": "code",
   "execution_count": 249,
   "metadata": {},
   "outputs": [],
   "source": [
    "n = 2531257\n",
    "d = 58739 \n",
    "e = 43"
   ]
  },
  {
   "cell_type": "code",
   "execution_count": 250,
   "metadata": {
    "scrolled": false
   },
   "outputs": [
    {
     "name": "stdout",
     "output_type": "stream",
     "text": [
      "g��\u0001��\u0001_0^{\u0001O{\u0001�'�D\u0001?/�\u0011\u0001\u0011�\u0001\u0017�\u0001p%��\u0001��\u0001��\u0001\n"
     ]
    }
   ],
   "source": [
    "r = \"\"\n",
    "for x in c:\n",
    "    r += decrypt(int(x), d, n)\n",
    "print(r)"
   ]
  },
  {
   "cell_type": "code",
   "execution_count": 246,
   "metadata": {},
   "outputs": [],
   "source": [
    "c = \"\".join(c)\n",
    "c = int(c)"
   ]
  },
  {
   "cell_type": "code",
   "execution_count": 247,
   "metadata": {},
   "outputs": [
    {
     "name": "stdout",
     "output_type": "stream",
     "text": [
      "$)\u0012\n"
     ]
    }
   ],
   "source": [
    "print(decrypt(c, d, n))"
   ]
  }
 ],
 "metadata": {
  "kernelspec": {
   "display_name": "SageMath 8.6",
   "language": "",
   "name": "sagemath"
  },
  "language_info": {
   "codemirror_mode": {
    "name": "ipython",
    "version": 2
   },
   "file_extension": ".py",
   "mimetype": "text/x-python",
   "name": "python",
   "nbconvert_exporter": "python",
   "pygments_lexer": "ipython2",
   "version": "2.7.15"
  }
 },
 "nbformat": 4,
 "nbformat_minor": 2
}
