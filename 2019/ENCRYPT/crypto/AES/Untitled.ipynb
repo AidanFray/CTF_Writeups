{
 "cells": [
  {
   "cell_type": "code",
   "execution_count": 1,
   "metadata": {},
   "outputs": [],
   "source": [
    "from Crypto.Cipher import AES"
   ]
  },
  {
   "cell_type": "code",
   "execution_count": 39,
   "metadata": {},
   "outputs": [
    {
     "data": {
      "text/plain": [
       "'6854e6e2e850626c52c4f2e8cad6ca79'"
      ]
     },
     "execution_count": 39,
     "metadata": {},
     "output_type": "execute_result"
    }
   ],
   "source": [
    "key = \"68 54 e6 e2 e8 50 62 6c 52 c4 f2 e8 ca d6 ca 79\"\n",
    "key = key.replace(\" \", \"\")\n",
    "key_bytes = key.decode(\"hex\")\n",
    "key"
   ]
  },
  {
   "cell_type": "code",
   "execution_count": 37,
   "metadata": {},
   "outputs": [],
   "source": [
    "aes = AES.new(key_bytes, AES.MODE_ECB)"
   ]
  },
  {
   "cell_type": "code",
   "execution_count": 38,
   "metadata": {},
   "outputs": [],
   "source": [
    "ct = \"c68145ccbc1bd6228da45a574ad9e29a77ca32376bc1f2a1e4cd66c640450d77\"\n",
    "ct_bytes = ct.decode(\"hex\")"
   ]
  },
  {
   "cell_type": "code",
   "execution_count": 31,
   "metadata": {},
   "outputs": [
    {
     "data": {
      "text/plain": [
       "\"mL\\xda2\\x89\\x93\\xdc7\\xef+OPb\\xa6\\xe0'\\xa6+B;\\x12\\x95\\x89\\x8b\\x02\\xebVH\\x0b}S?\""
      ]
     },
     "execution_count": 31,
     "metadata": {},
     "output_type": "execute_result"
    }
   ],
   "source": [
    "aes.decrypt(ct_bytes)"
   ]
  },
  {
   "cell_type": "code",
   "execution_count": null,
   "metadata": {},
   "outputs": [],
   "source": []
  }
 ],
 "metadata": {
  "kernelspec": {
   "display_name": "SageMath 8.7",
   "language": "",
   "name": "sagemath"
  },
  "language_info": {
   "codemirror_mode": {
    "name": "ipython",
    "version": 2
   },
   "file_extension": ".py",
   "mimetype": "text/x-python",
   "name": "python",
   "nbconvert_exporter": "python",
   "pygments_lexer": "ipython2",
   "version": "2.7.16"
  }
 },
 "nbformat": 4,
 "nbformat_minor": 2
}
