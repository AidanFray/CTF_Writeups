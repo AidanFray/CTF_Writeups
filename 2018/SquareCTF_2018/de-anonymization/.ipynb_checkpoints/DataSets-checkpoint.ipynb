{
 "cells": [
  {
   "cell_type": "code",
   "execution_count": 1,
   "metadata": {},
   "outputs": [],
   "source": [
    "import csv"
   ]
  },
  {
   "cell_type": "code",
   "execution_count": 28,
   "metadata": {},
   "outputs": [],
   "source": [
    "def loadCSV(name):\n",
    "    data = []\n",
    "    with open(f\"{name}.csv\", \"r\") as csvfile:\n",
    "        csvFile = []\n",
    "        file = csv.reader(csvfile, delimiter=',')\n",
    "        for row in file:\n",
    "            data.append(row)\n",
    "    return data\n",
    "\n",
    "data1 = loadCSV('1')\n",
    "data2 = loadCSV('2')\n",
    "data3 = loadCSV('3')\n",
    "data4 = loadCSV('4')\n",
    "data5 = loadCSV('5') \n",
    "\n",
    "email = None\n",
    "income = None\n",
    "job_title = None\n",
    "state = None\n",
    "street = None\n",
    "postal = None\n",
    "ssn_last_four = None\n",
    "name = None\n",
    "\n"
   ]
  },
  {
   "cell_type": "code",
   "execution_count": 62,
   "metadata": {},
   "outputs": [
    {
     "name": "stdout",
     "output_type": "stream",
     "text": [
      "['email', 'job_title', 'income']\n",
      "['eyakubovics9t@nih.gov', 'Captain', '96605']\n"
     ]
    }
   ],
   "source": [
    "print(data1[0])\n",
    "for row in data1:\n",
    "    if \"Captain\" in row[1] and \"yak\" in row[0]:\n",
    "        email = row[0]\n",
    "        job_title = row[1]\n",
    "        income = row[2]\n",
    "        print(row)"
   ]
  },
  {
   "cell_type": "code",
   "execution_count": 58,
   "metadata": {},
   "outputs": [
    {
     "name": "stdout",
     "output_type": "stream",
     "text": [
      "['email', 'state']\n",
      "['eyakubovics9t@nih.gov', 'Florida']\n"
     ]
    }
   ],
   "source": [
    "print(data2[0])\n",
    "for row in data2:\n",
    "    if email in row[0]:\n",
    "        print(row)\n",
    "        state = row[1]"
   ]
  },
  {
   "cell_type": "code",
   "execution_count": 72,
   "metadata": {},
   "outputs": [
    {
     "name": "stdout",
     "output_type": "stream",
     "text": [
      "['income', 'state', 'street', 'postal']\n",
      "['96605', 'Florida', '4 Magdeline', '33421']\n"
     ]
    }
   ],
   "source": [
    "print(data4[0])\n",
    "for row in data4:\n",
    "    if income in row[0] and state in row[1]:\n",
    "        street = row[2]\n",
    "        postal = row[3]\n",
    "        print(row)"
   ]
  },
  {
   "cell_type": "code",
   "execution_count": 74,
   "metadata": {},
   "outputs": [
    {
     "name": "stdout",
     "output_type": "stream",
     "text": [
      "['ssn_last_four', 'state', 'street']\n",
      "['4484', 'Florida', '4 Magdeline']\n"
     ]
    }
   ],
   "source": [
    "\n",
    "\n",
    "print(data3[0])\n",
    "for row in data3:\n",
    "    if state in row[1] and street in row[2]:\n",
    "        ssn_last_four = row[0]\n",
    "        print(row)"
   ]
  },
  {
   "cell_type": "code",
   "execution_count": 75,
   "metadata": {},
   "outputs": [
    {
     "name": "stdout",
     "output_type": "stream",
     "text": [
      "['first_name', 'street']\n",
      "['Elyssa', '4 Magdeline']\n"
     ]
    }
   ],
   "source": [
    "\n",
    "\n",
    "print(data5[0])\n",
    "for row in data5:\n",
    "    if street in row[1]:\n",
    "        name = row[0]\n",
    "        print(row)"
   ]
  },
  {
   "cell_type": "code",
   "execution_count": null,
   "metadata": {},
   "outputs": [],
   "source": [
    "print(name, )"
   ]
  }
 ],
 "metadata": {
  "kernelspec": {
   "display_name": "Python 3",
   "language": "python",
   "name": "python3"
  },
  "language_info": {
   "codemirror_mode": {
    "name": "ipython",
    "version": 3
   },
   "file_extension": ".py",
   "mimetype": "text/x-python",
   "name": "python",
   "nbconvert_exporter": "python",
   "pygments_lexer": "ipython3",
   "version": "3.7.1"
  }
 },
 "nbformat": 4,
 "nbformat_minor": 2
}
